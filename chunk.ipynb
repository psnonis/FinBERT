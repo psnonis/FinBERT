{
 "cells": [
  {
   "cell_type": "code",
   "execution_count": null,
   "metadata": {},
   "outputs": [],
   "source": [
    "def chunkify(file, minCharacterLen = 1000):\n",
    "\n",
    "    from re import sub\n",
    "\n",
    "    corpus = open(file, 'rt').read()\n",
    "    chunks = corpus.split('\\n\\n')\n",
    "\n",
    "    print(f'starting with {len(chunks)} chunks')\n",
    "\n",
    "    chunks = [c                     for c in chunks if len(c) > minCharacterLen]\n",
    "\n",
    "    chunks = [sub('\\n',     ' ', c) for c in chunks]\n",
    "    chunks = [sub('\\s+',    ' ', c) for c in chunks]\n",
    "    chunks = [sub('\\s-+\\s', ' ', c) for c in chunks]\n",
    "\n",
    "    chunks = [c.strip()             for c in chunks]\n",
    "    chunks = [c.replace('. ','.\\n') for c in chunks]\n",
    "\n",
    "    print(f'ending   with {len(chunks)} chunks')\n",
    "\n",
    "    return chunks\n"
   ]
  },
  {
   "cell_type": "code",
   "execution_count": null,
   "metadata": {},
   "outputs": [],
   "source": [
    "_2019 = chunkify('2019.train')"
   ]
  },
  {
   "cell_type": "code",
   "execution_count": null,
   "metadata": {},
   "outputs": [],
   "source": [
    "_1999[10:20]"
   ]
  },
  {
   "cell_type": "code",
   "execution_count": null,
   "metadata": {},
   "outputs": [],
   "source": [
    "text = '\\n\\n'.join(_1999)"
   ]
  },
  {
   "cell_type": "code",
   "execution_count": null,
   "metadata": {},
   "outputs": [],
   "source": [
    "print(text[:5000])"
   ]
  },
  {
   "cell_type": "code",
   "execution_count": null,
   "metadata": {},
   "outputs": [],
   "source": [
    "with open('2019.chunk', 'wt') as f : f.write(text)"
   ]
  },
  {
   "cell_type": "code",
   "execution_count": null,
   "metadata": {},
   "outputs": [],
   "source": [
    "!git clone https://github.com/google-research/bert"
   ]
  },
  {
   "cell_type": "code",
   "execution_count": null,
   "metadata": {},
   "outputs": [],
   "source": [
    "import sys\n",
    "sys.path.append('bert')"
   ]
  },
  {
   "cell_type": "code",
   "execution_count": null,
   "metadata": {},
   "outputs": [],
   "source": [
    "!wget https://s3.amazonaws.com/models.huggingface.co/bert/bert-base-uncased-vocab.txt"
   ]
  },
  {
   "cell_type": "code",
   "execution_count": null,
   "metadata": {},
   "outputs": [],
   "source": [
    "!python3 bert/create_pretraining_data.py \\\n",
    "--input_file=1999.chunk \\\n",
    "--output_file=1999.tfrecord \\\n",
    "--vocab_file=bert-base-uncased-vocab.txt \\\n",
    "--do_lower_case=True \\\n",
    "--do_whole_word_mask=True \\\n",
    "--max_predictions_per_seq=20 \\\n",
    "--max_seq_length=540 \\\n",
    "--masked_lm_prob=0.15 \\\n",
    "--random_seed=42 \\\n",
    "--dupe_factor=5"
   ]
  },
  {
   "cell_type": "code",
   "execution_count": null,
   "metadata": {},
   "outputs": [],
   "source": []
  }
 ],
 "metadata": {
  "kernelspec": {
   "display_name": "Python 3",
   "language": "python",
   "name": "python3"
  },
  "language_info": {
   "codemirror_mode": {
    "name": "ipython",
    "version": 3
   },
   "file_extension": ".py",
   "mimetype": "text/x-python",
   "name": "python",
   "nbconvert_exporter": "python",
   "pygments_lexer": "ipython3",
   "version": "3.6.8"
  }
 },
 "nbformat": 4,
 "nbformat_minor": 4
}
