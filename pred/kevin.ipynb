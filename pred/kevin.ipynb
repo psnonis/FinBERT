{
 "cells": [
  {
   "cell_type": "code",
   "execution_count": 1,
   "metadata": {},
   "outputs": [],
   "source": [
    "import torch\n",
    "from pytorch_transformers import BertTokenizer, BertForMaskedLM"
   ]
  },
  {
   "cell_type": "code",
   "execution_count": null,
   "metadata": {},
   "outputs": [],
   "source": [
    "model            = {}\n",
    "model['GooBERT'] = BertForMaskedLM.from_pretrained('GooBERT')\n",
    "model['FinBERT'] = BertForMaskedLM.from_pretrained('FinBERT-Prime_128MSL-250K')\n",
    "model['PreBERT'] = BertForMaskedLM.from_pretrained('FinBERT-Pre2K_128MSL-250K')\n",
    "model['ComBERT'] = BertForMaskedLM.from_pretrained('FinBERT-Combo_128MSL-250K')"
   ]
  },
  {
   "cell_type": "code",
   "execution_count": 67,
   "metadata": {},
   "outputs": [
    {
     "name": "stdout",
     "output_type": "stream",
     "text": [
      "0 [CLS]\n",
      "1 ceo\n",
      "2 total\n",
      "3 compensation\n",
      "4 [SEP]\n",
      "5 resulting\n",
      "6 from\n",
      "7 foo\n",
      "8 of\n",
      "9 this\n",
      "10 year\n",
      "11 [SEP]\n",
      "['[CLS]', 'ceo', 'total', 'compensation', '[SEP]', 'resulting', 'from', 'foo', 'of', 'this', 'year', '[SEP]']\n"
     ]
    }
   ],
   "source": [
    "S1 = '[CLS] the company has a fiduciary duty to its shareholders . [SEP]'\n",
    "S2 = 'one of its many regulatory requirements . [SEP]'\n",
    "\n",
    "S1 = '[CLS] the volatility caused us to what [SEP]'\n",
    "S2 = 'one of its many regulatory requirements . [SEP]'\n",
    "\n",
    "S1 = '[CLS] we have geographically diversified sales [SEP]'\n",
    "S2 = 'we believe that we hold the worst market position [SEP]'\n",
    "\n",
    "S1 = '[CLS] we have geographically diversified sales [SEP]'\n",
    "S2 = 'we believe that we hold the best market position [SEP]'\n",
    "\n",
    "S1 = '[CLS] ceo total compensation [SEP]'\n",
    "S2 = 'resulting from foo of this year [SEP]'\n",
    "\n",
    "# sentence_1 = ('[CLS] we have geographically [MASK] sales [SEP]', 'diversified')\n",
    "# sentence_2 = ('we believe that we hold the [MASK] market position [SEP]', 'best')\n",
    "\n",
    "# sentence_1 = ('[CLS] we have geographically [MASK] sales [SEP]', 'diversified')\n",
    "# sentence_2 = ('we believe that we hold the [MASK] market position [SEP]', 'best')\n",
    "\n",
    "\n",
    "# S1 = sentence_1[0]\n",
    "# S2 = sentence_2[0]\n",
    "\n",
    "tokenizer      = BertTokenizer.from_pretrained('bert-base-uncased')\n",
    "text           = f'{S1} {S2}'\n",
    "tokenized_text = tokenizer.tokenize(text)\n",
    "\n",
    "# MI = [i for i, x in enumerate(tokenized_text) if x == \"[MASK]\"]\n",
    "# MI = [tokenized_text.index(sentence_1[1]), tokenized_text.index(sentence_2[1])]\n",
    "\n",
    "for i, word in enumerate(tokenized_text):\n",
    "    print(\"{} {}\".format(i, word))\n",
    "    \n",
    "print(tokenized_text)\n"
   ]
  },
  {
   "cell_type": "code",
   "execution_count": 39,
   "metadata": {},
   "outputs": [],
   "source": []
  },
  {
   "cell_type": "code",
   "execution_count": 68,
   "metadata": {},
   "outputs": [
    {
     "name": "stdout",
     "output_type": "stream",
     "text": [
      "['[CLS]', 'ceo', 'total', 'compensation', '[SEP]', 'resulting', 'from', '[MASK]', 'of', 'this', 'year', '[SEP]']\n",
      "GooBERT : ['results']\n",
      "FinBERT : ['most']\n",
      "PreBERT : ['growth']\n",
      "ComBERT : ['operations']\n"
     ]
    }
   ],
   "source": [
    "MI = [7]\n",
    "\n",
    "for i in MI :\n",
    "    tokenized_text[i] = '[MASK]'\n",
    "\n",
    "print(tokenized_text)\n",
    "\n",
    "indexed_tokens   = tokenizer.convert_tokens_to_ids(tokenized_text)\n",
    "segments_ids     = [0] * len(tokenizer.tokenize(S1)) + [1] * len(tokenizer.tokenize(S2))\n",
    "\n",
    "tokens_tensor    = torch.tensor([indexed_tokens])\n",
    "segments_tensors = torch.tensor([segments_ids])\n",
    "\n",
    "\n",
    "preds  = {}\n",
    "for m in model:\n",
    "    with torch.no_grad():\n",
    "        preds[m] = model[m](tokens_tensor, token_type_ids = segments_tensors)[0]\n",
    "        \n",
    "for m in preds:\n",
    "    tokens = []\n",
    "    for i in MI:\n",
    "        predicted_index = torch.argmax(preds[m][0, i]).item()\n",
    "        predicted_token = tokenizer.convert_ids_to_tokens([predicted_index])[0]\n",
    "        tokens.append(predicted_token)\n",
    "\n",
    "    print(f'{m} : {tokens}')"
   ]
  },
  {
   "cell_type": "markdown",
   "metadata": {},
   "source": [
    "Positive examples have better results in Fin, negative Goo performs better.  Financial documents accentuate the positive?\n",
    "\n",
    "Finbert feels \n",
    "\n"
   ]
  }
 ],
 "metadata": {
  "kernelspec": {
   "display_name": "Python 3",
   "language": "python",
   "name": "python3"
  },
  "language_info": {
   "codemirror_mode": {
    "name": "ipython",
    "version": 3
   },
   "file_extension": ".py",
   "mimetype": "text/x-python",
   "name": "python",
   "nbconvert_exporter": "python",
   "pygments_lexer": "ipython3",
   "version": "3.6.8"
  }
 },
 "nbformat": 4,
 "nbformat_minor": 4
}
