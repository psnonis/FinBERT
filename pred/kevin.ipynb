{
 "cells": [
  {
   "cell_type": "code",
   "execution_count": 2,
   "metadata": {},
   "outputs": [],
   "source": [
    "import torch\n",
    "from pytorch_transformers import BertTokenizer, BertForMaskedLM"
   ]
  },
  {
   "cell_type": "code",
   "execution_count": 3,
   "metadata": {},
   "outputs": [],
   "source": [
    "model            = {}\n",
    "model['GooBERT'] = BertForMaskedLM.from_pretrained('GooBERT')\n",
    "model['FinBERT'] = BertForMaskedLM.from_pretrained('FinBERT-Prime_128MSL-250K')\n",
    "model['PreBERT'] = BertForMaskedLM.from_pretrained('FinBERT-Pre2K_128MSL-250K')\n",
    "model['ComBERT'] = BertForMaskedLM.from_pretrained('FinBERT-Combo_128MSL-250K')"
   ]
  },
  {
   "cell_type": "code",
   "execution_count": 69,
   "metadata": {},
   "outputs": [
    {
     "name": "stdout",
     "output_type": "stream",
     "text": [
      "0 [CLS]\n",
      "1 market\n",
      "2 conditions\n",
      "3 have\n",
      "4 improved\n",
      "5 since\n",
      "6 the\n",
      "7 2007\n",
      "8 -\n",
      "9 2009\n",
      "10 recession\n",
      "11 .\n",
      "12 [SEP]\n",
      "13 conditions\n",
      "14 remain\n",
      "15 challenging\n",
      "16 for\n",
      "17 financial\n",
      "18 institutions\n",
      "19 .\n",
      "20 [SEP]\n",
      "['[CLS]', 'market', 'conditions', 'have', 'improved', 'since', 'the', '2007', '-', '2009', 'recession', '.', '[SEP]', 'conditions', 'remain', 'challenging', 'for', 'financial', 'institutions', '.', '[SEP]']\n"
     ]
    }
   ],
   "source": [
    "S1 = '[CLS] the company has a fiduciary duty to its shareholders . [SEP]'\n",
    "S2 = 'one of its many regulatory requirements . [SEP]'\n",
    "\n",
    "S1 = '[CLS] the volatility caused us to what [SEP]'\n",
    "S2 = 'one of its many regulatory requirements . [SEP]'\n",
    "\n",
    "S1 = '[CLS] we have geographically diversified sales [SEP]'\n",
    "S2 = 'we believe that we hold the worst market position [SEP]'\n",
    "\n",
    "S1 = '[CLS] we have geographically diversified sales [SEP]'\n",
    "S2 = 'we believe that we hold the best market position [SEP]'\n",
    "\n",
    "S1 = '[CLS] ceo total compensation [SEP]'\n",
    "S2 = 'resulting from foo of this year [SEP]'\n",
    "\n",
    "# sentence_1 = ('[CLS] we have geographically [MASK] sales [SEP]', 'diversified')\n",
    "# sentence_2 = ('we believe that we hold the [MASK] market position [SEP]', 'best')\n",
    "\n",
    "# sentence_1 = ('[CLS] we have geographically [MASK] sales [SEP]', 'diversified')\n",
    "# sentence_2 = ('we believe that we hold the [MASK] market position [SEP]', 'best')\n",
    "\n",
    "# S1 = sentence_1[0]\n",
    "# S2 = sentence_2[0]\n",
    "\n",
    "S1 = '[CLS] market conditions have improved since the 2007-2009 recession . [SEP]'\n",
    "S2 = 'conditions remain challenging for financial institutions . [SEP]'\n",
    "\n",
    "tokenizer      = BertTokenizer.from_pretrained('bert-base-uncased')\n",
    "text           = f'{S1} {S2}'\n",
    "tokenized_text = tokenizer.tokenize(text)\n",
    "\n",
    "# MI = [i for i, x in enumerate(tokenized_text) if x == \"[MASK]\"]\n",
    "# MI = [tokenized_text.index(sentence_1[1]), tokenized_text.index(sentence_2[1])]\n",
    "\n",
    "for i, word in enumerate(tokenized_text):\n",
    "    print(\"{} {}\".format(i, word))\n",
    "    \n",
    "print(tokenized_text)\n"
   ]
  },
  {
   "cell_type": "code",
   "execution_count": 39,
   "metadata": {},
   "outputs": [],
   "source": []
  },
  {
   "cell_type": "code",
   "execution_count": 85,
   "metadata": {},
   "outputs": [
    {
     "name": "stdout",
     "output_type": "stream",
     "text": [
      "['[CLS]', 'market', 'conditions', 'have', 'improved', 'since', 'the', '2007', '-', '2009', '[MASK]', '.', '[SEP]', 'conditions', '[MASK]', 'challenging', 'for', 'financial', 'institutions', '.', '[SEP]']\n",
      "[0, 0, 0, 0, 0, 0, 0, 0, 0, 0, 0, 0, 0, 1, 1, 1, 1, 1, 1, 1, 1]\n",
      "GooBERT\n",
      "first ['recession']\n",
      "second ['period']\n",
      "third ['season']\n",
      "fourth ['crisis']\n",
      "fifth ['year']\n",
      "sixth ['decade']\n",
      "seventh ['crash']\n",
      "eighth ['boom']\n",
      "nineth ['election']\n",
      "tenth ['cycle']\n",
      "\n",
      "FinBERT\n",
      "first ['recession']\n",
      "second ['crisis']\n",
      "third ['period']\n",
      "fourth ['attacks']\n",
      "fifth ['hurricanes']\n",
      "sixth ['levels']\n",
      "seventh ['peak']\n",
      "eighth ['announcement']\n",
      "nineth ['elections']\n",
      "tenth ['season']\n",
      "\n",
      "PreBERT\n",
      "first ['period']\n",
      "second ['season']\n",
      "third ['fires']\n",
      "fourth ['deadline']\n",
      "fifth ['seasons']\n",
      "sixth ['blizzard']\n",
      "seventh ['winter']\n",
      "eighth ['level']\n",
      "nineth ['harvest']\n",
      "tenth ['levels']\n",
      "\n",
      "ComBERT\n",
      "first ['recession']\n",
      "second ['period']\n",
      "third ['crisis']\n",
      "fourth ['peak']\n",
      "fifth ['time']\n",
      "sixth ['highs']\n",
      "seventh ['hurricanes']\n",
      "eighth ['vintage']\n",
      "nineth ['cycle']\n",
      "tenth ['year']\n",
      "\n",
      "GooBERT : ['recession', 'are']\n",
      "FinBERT : ['recession', 'remain']\n",
      "PreBERT : ['period', 'are']\n",
      "ComBERT : ['recession', 'remain']\n"
     ]
    }
   ],
   "source": [
    "import numpy as np\n",
    "\n",
    "MI = [10, 14]\n",
    "\n",
    "for i in MI :\n",
    "    tokenized_text[i] = '[MASK]'\n",
    "\n",
    "print(tokenized_text)\n",
    "\n",
    "indexed_tokens   = tokenizer.convert_tokens_to_ids(tokenized_text)\n",
    "segments_ids     = [0] * len(tokenizer.tokenize(S1)) + [1] * len(tokenizer.tokenize(S2))\n",
    "\n",
    "print(segments_ids)\n",
    "\n",
    "tokens_tensor    = torch.tensor([indexed_tokens])\n",
    "segments_tensors = torch.tensor([segments_ids])\n",
    "\n",
    "preds  = {}\n",
    "for m in model:\n",
    "    with torch.no_grad():\n",
    "        preds[m] = model[m](tokens_tensor, token_type_ids = segments_tensors)[0]\n",
    "\n",
    "        predicted_index = torch.argmax(preds[m][0, 14]).item()\n",
    "\n",
    "        predicted_indecies = np.argsort((preds[m][0, 10]))\n",
    "        print(m)\n",
    "        print(\"first {}\".format(tokenizer.convert_ids_to_tokens([predicted_indecies[-1].item()])))\n",
    "        print(\"second {}\".format(tokenizer.convert_ids_to_tokens([predicted_indecies[-2].item()])))\n",
    "        print(\"third {}\".format(tokenizer.convert_ids_to_tokens([predicted_indecies[-3].item()])))\n",
    "        print(\"fourth {}\".format(tokenizer.convert_ids_to_tokens([predicted_indecies[-4].item()])))\n",
    "        print(\"fifth {}\".format(tokenizer.convert_ids_to_tokens([predicted_indecies[-5].item()])))\n",
    "        print(\"sixth {}\".format(tokenizer.convert_ids_to_tokens([predicted_indecies[-6].item()])))\n",
    "        print(\"seventh {}\".format(tokenizer.convert_ids_to_tokens([predicted_indecies[-7].item()])))\n",
    "        print(\"eighth {}\".format(tokenizer.convert_ids_to_tokens([predicted_indecies[-8].item()])))\n",
    "        print(\"nineth {}\".format(tokenizer.convert_ids_to_tokens([predicted_indecies[-9].item()])))\n",
    "        print(\"tenth {}\".format(tokenizer.convert_ids_to_tokens([predicted_indecies[-10].item()])))\n",
    "        print(\"\")\n",
    "        \n",
    "        \n",
    "for m in preds:\n",
    "    tokens = []\n",
    "    for i in MI:\n",
    "        predicted_index = torch.argmax(preds[m][0, i]).item()\n",
    "        predicted_token = tokenizer.convert_ids_to_tokens([predicted_index])[0]\n",
    "        tokens.append(predicted_token)\n",
    "\n",
    "    print(f'{m} : {tokens}')"
   ]
  },
  {
   "cell_type": "code",
   "execution_count": 84,
   "metadata": {},
   "outputs": [
    {
     "name": "stdout",
     "output_type": "stream",
     "text": [
      ".\t\t\t   FinBERT-Combo_128MSL-500K_512MSL-100K\n",
      "..\t\t\t   FinBERT-Pre2K_128MSL-250K\n",
      ".chunks\t\t\t   FinBERT-Prime_128MSL-250K\n",
      ".ipynb_checkpoints\t   FinBERT-Prime_128MSL-500K\n",
      ".kevins\t\t\t   FinBERT-Prime_128MSL-500K_512MSL-050K\n",
      ".models\t\t\t   FinBERT-Prime_128MSL-500K_512MSL-100K\n",
      "1999.vocab\t\t   FinBERT-Prime_128MSL-500K_512MSL-200K\n",
      "2019.vocab\t\t   GooBERT\n",
      "FinBERT-Combo_128MSL-100K  bert.vocab\n",
      "FinBERT-Combo_128MSL-250K  config.json\n",
      "FinBERT-Combo_128MSL-500K  tf2pt.sh\n"
     ]
    }
   ],
   "source": [
    "!ls -a /gold/"
   ]
  },
  {
   "cell_type": "markdown",
   "metadata": {},
   "source": [
    "Positive examples have better results in Fin, negative Goo performs better.  Financial documents accentuate the positive?\n",
    "\n",
    "Finbert feels \n",
    "\n"
   ]
  }
 ],
 "metadata": {
  "kernelspec": {
   "display_name": "Python 3",
   "language": "python",
   "name": "python3"
  },
  "language_info": {
   "codemirror_mode": {
    "name": "ipython",
    "version": 3
   },
   "file_extension": ".py",
   "mimetype": "text/x-python",
   "name": "python",
   "nbconvert_exporter": "python",
   "pygments_lexer": "ipython3",
   "version": "3.6.8"
  }
 },
 "nbformat": 4,
 "nbformat_minor": 4
}
