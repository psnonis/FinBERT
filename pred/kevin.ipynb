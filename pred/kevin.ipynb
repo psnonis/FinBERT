{
 "cells": [
  {
   "cell_type": "code",
   "execution_count": 1,
   "metadata": {},
   "outputs": [],
   "source": [
    "import torch\n",
    "from pytorch_transformers import BertTokenizer, BertForMaskedLM"
   ]
  },
  {
   "cell_type": "code",
   "execution_count": 29,
   "metadata": {},
   "outputs": [
    {
     "name": "stdout",
     "output_type": "stream",
     "text": [
      "0 [CLS]\n",
      "1 the\n",
      "2 vol\n",
      "3 ##ati\n",
      "4 ##lity\n",
      "5 caused\n",
      "6 us\n",
      "7 to\n",
      "8 what\n",
      "9 [SEP]\n",
      "10 one\n",
      "11 of\n",
      "12 its\n",
      "13 many\n",
      "14 regulatory\n",
      "15 requirements\n",
      "16 .\n",
      "17 [SEP]\n",
      "['[CLS]', 'the', 'vol', '##ati', '##lity', 'caused', 'us', 'to', 'what', '[SEP]', 'one', 'of', 'its', 'many', 'regulatory', 'requirements', '.', '[SEP]']\n"
     ]
    }
   ],
   "source": [
    "S1 = '[CLS] the company has a fiduciary duty to its shareholders . [SEP]'\n",
    "S2 = 'one of its many regulatory requirements . [SEP]'\n",
    "\n",
    "S1 = '[CLS] the volatility caused us to what [SEP]'\n",
    "S2 = 'one of its many regulatory requirements . [SEP]'\n",
    "\n",
    "tokenizer      = BertTokenizer.from_pretrained('bert-base-uncased')\n",
    "text           = f'{S1} {S2}'\n",
    "tokenized_text = tokenizer.tokenize(text)\n",
    "\n",
    "for i, word in enumerate(tokenized_text):\n",
    "    print(\"{} {}\".format(i, word))\n",
    "    \n",
    "print(tokenized_text)\n"
   ]
  },
  {
   "cell_type": "code",
   "execution_count": 30,
   "metadata": {},
   "outputs": [
    {
     "name": "stdout",
     "output_type": "stream",
     "text": [
      "['[CLS]', 'the', 'vol', '##ati', '##lity', 'caused', 'us', 'to', '[MASK]', '[SEP]', 'one', 'of', '[MASK]', 'many', 'regulatory', 'requirements', '.', '[SEP]']\n",
      "GooBERT : ['.', 'our']\n",
      "FinBERT : [':', 'the']\n",
      "PreBERT : ['31', 'the']\n",
      "ComBERT : [':', 'the']\n"
     ]
    }
   ],
   "source": [
    "MI = [8,12]\n",
    "\n",
    "for i in MI :\n",
    "    tokenized_text[i] = '[MASK]'\n",
    "\n",
    "print(tokenized_text)\n",
    "\n",
    "indexed_tokens   = tokenizer.convert_tokens_to_ids(tokenized_text)\n",
    "segments_ids     = [0] * len(tokenizer.tokenize(S1)) + [1] * len(tokenizer.tokenize(S2))\n",
    "\n",
    "tokens_tensor    = torch.tensor([indexed_tokens])\n",
    "segments_tensors = torch.tensor([segments_ids])\n",
    "\n",
    "model            = {}\n",
    "model['GooBERT'] = BertForMaskedLM.from_pretrained('GooBERT')\n",
    "model['FinBERT'] = BertForMaskedLM.from_pretrained('FinBERT-Prime_128MSL-250K')\n",
    "model['PreBERT'] = BertForMaskedLM.from_pretrained('FinBERT-Pre2K_128MSL-250K')\n",
    "model['ComBERT'] = BertForMaskedLM.from_pretrained('FinBERT-Combo_128MSL-250K')\n",
    "\n",
    "preds  = {}\n",
    "for m in model:\n",
    "    with torch.no_grad():\n",
    "        preds[m] = model[m](tokens_tensor, token_type_ids = segments_tensors)[0]\n",
    "        \n",
    "for m in preds:\n",
    "    tokens = []\n",
    "    for i in MI:\n",
    "        predicted_index = torch.argmax(preds[m][0, i]).item()\n",
    "        predicted_token = tokenizer.convert_ids_to_tokens([predicted_index])[0]\n",
    "        tokens.append(predicted_token)\n",
    "\n",
    "    print(f'{m} : {tokens}')"
   ]
  },
  {
   "cell_type": "code",
   "execution_count": null,
   "metadata": {},
   "outputs": [],
   "source": []
  }
 ],
 "metadata": {
  "kernelspec": {
   "display_name": "Python 3",
   "language": "python",
   "name": "python3"
  },
  "language_info": {
   "codemirror_mode": {
    "name": "ipython",
    "version": 3
   },
   "file_extension": ".py",
   "mimetype": "text/x-python",
   "name": "python",
   "nbconvert_exporter": "python",
   "pygments_lexer": "ipython3",
   "version": "3.6.8"
  }
 },
 "nbformat": 4,
 "nbformat_minor": 4
}
