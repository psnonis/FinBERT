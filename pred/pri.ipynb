{
 "cells": [
  {
   "cell_type": "code",
   "execution_count": 7,
   "metadata": {},
   "outputs": [],
   "source": [
    "import torch\n",
    "from pytorch_transformers import BertTokenizer, BertForMaskedLM"
   ]
  },
  {
   "cell_type": "code",
   "execution_count": 8,
   "metadata": {},
   "outputs": [],
   "source": [
    "S1 = '[CLS] the company has a fiduciary duty to its shareholders . [SEP]'\n",
    "S2 = 'one of its many regulatory requirements . [SEP]'\n",
    "\n",
    "MI = [2,12,19,20,]"
   ]
  },
  {
   "cell_type": "code",
   "execution_count": 9,
   "metadata": {},
   "outputs": [
    {
     "name": "stdout",
     "output_type": "stream",
     "text": [
      "['[CLS]', 'the', '[MASK]', 'has', 'a', 'fi', '##du', '##cia', '##ry', 'duty', 'to', 'its', '[MASK]', '.', '[SEP]', 'one', 'of', 'its', 'many', '[MASK]', '[MASK]', '.', '[SEP]']\n"
     ]
    }
   ],
   "source": [
    "tokenizer      = BertTokenizer.from_pretrained('bert-base-uncased')\n",
    "text           = f'{S1} {S2}'\n",
    "tokenized_text = tokenizer.tokenize(text)\n",
    "\n",
    "for i in MI :\n",
    "    tokenized_text[i] = '[MASK]'\n",
    "\n",
    "print(tokenized_text)\n",
    "\n",
    "indexed_tokens   = tokenizer.convert_tokens_to_ids(tokenized_text)\n",
    "segments_ids     = [0] * len(tokenizer.tokenize(S1)) + [1] * len(tokenizer.tokenize(S2))\n",
    "\n",
    "tokens_tensor    = torch.tensor([indexed_tokens])\n",
    "segments_tensors = torch.tensor([segments_ids])"
   ]
  },
  {
   "cell_type": "code",
   "execution_count": 10,
   "metadata": {},
   "outputs": [],
   "source": [
    "model            = {}\n",
    "model['GooBERT'] = BertForMaskedLM.from_pretrained('GooBERT')\n",
    "model['FinBERT'] = BertForMaskedLM.from_pretrained('FinBERT-Prime_128MSL-250K')\n",
    "model['PreBERT'] = BertForMaskedLM.from_pretrained('FinBERT-Pre2K_128MSL-250K')\n",
    "model['ComBERT'] = BertForMaskedLM.from_pretrained('FinBERT-Combo_128MSL-250K')"
   ]
  },
  {
   "cell_type": "code",
   "execution_count": 19,
   "metadata": {},
   "outputs": [],
   "source": [
    "model['FinBERT-Prime_128MSL-500K_512MSL-100K'] = BertForMaskedLM.from_pretrained('FinBERT-Prime_128MSL-500K_512MSL-100K')"
   ]
  },
  {
   "cell_type": "code",
   "execution_count": 11,
   "metadata": {},
   "outputs": [],
   "source": [
    "preds  = {}\n",
    "for m in model:\n",
    "    with torch.no_grad():\n",
    "        preds[m] = model[m](tokens_tensor, token_type_ids = segments_tensors)[0]"
   ]
  },
  {
   "cell_type": "code",
   "execution_count": 12,
   "metadata": {},
   "outputs": [
    {
     "name": "stdout",
     "output_type": "stream",
     "text": [
      "GooBERT                               : state        [2110] | members      [2372] | important    [2590] | duties       [5704]\n",
      "FinBERT                               : company      [2194] | shareholders [15337] | stock        [4518] | ##holders    [17794]\n",
      "PreBERT                               : bank         [2924] | directors    [5501] | are          [2024] | ##rs         [2869]\n",
      "ComBERT                               : company      [2194] | shareholders [15337] | directors    [5501] | is           [2003]\n"
     ]
    }
   ],
   "source": [
    "d = ' | '\n",
    "for m in preds:\n",
    "    tokens = []\n",
    "    for i in MI:\n",
    "        predicted_index = torch.argmax(preds[m][0, i]).item()\n",
    "        predicted_token = tokenizer.convert_ids_to_tokens([predicted_index])[0]\n",
    "        tokens.append(f'{predicted_token:<12} [{predicted_index}]')\n",
    "\n",
    "    print(f'{m :<37} : {d.join(tokens)}')"
   ]
  },
  {
   "cell_type": "code",
   "execution_count": 15,
   "metadata": {},
   "outputs": [
    {
     "data": {
      "text/plain": [
       "'##s'"
      ]
     },
     "execution_count": 15,
     "metadata": {},
     "output_type": "execute_result"
    }
   ],
   "source": [
    "tokenizer.convert_ids_to_tokens([2015])[0]"
   ]
  },
  {
   "cell_type": "markdown",
   "metadata": {},
   "source": [
    "# Take Aways\n",
    "- FinBERT shows a statistically significant improvement in the contexual understanding of financial statements.\n",
    "- Financial terms such as fudituary are missing from the vocabulary. In hind sight we should have generated the vocabulary for FinBERT from the SEC dataset.\n",
    "- Impact of regulatory legislations introducted post financial crisis shows up in Prime and Combo results.\n",
    "\n",
    "- Combo : Pre2K LR was low on purpose."
   ]
  }
 ],
 "metadata": {
  "kernelspec": {
   "display_name": "Python 3",
   "language": "python",
   "name": "python3"
  },
  "language_info": {
   "codemirror_mode": {
    "name": "ipython",
    "version": 3
   },
   "file_extension": ".py",
   "mimetype": "text/x-python",
   "name": "python",
   "nbconvert_exporter": "python",
   "pygments_lexer": "ipython3",
   "version": "3.6.8"
  }
 },
 "nbformat": 4,
 "nbformat_minor": 4
}
